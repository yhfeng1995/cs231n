{
 "cells": [
  {
   "cell_type": "markdown",
   "metadata": {},
   "source": [
    "# Softmax exercise\n",
    "\n",
    "*Complete and hand in this completed worksheet (including its outputs and any supporting code outside of the worksheet) with your assignment submission. For more details see the [assignments page](http://vision.stanford.edu/teaching/cs231n/assignments.html) on the course website.*\n",
    "\n",
    "This exercise is analogous to the SVM exercise. You will:\n",
    "\n",
    "- implement a fully-vectorized **loss function** for the Softmax classifier\n",
    "- implement the fully-vectorized expression for its **analytic gradient**\n",
    "- **check your implementation** with numerical gradient\n",
    "- use a validation set to **tune the learning rate and regularization** strength\n",
    "- **optimize** the loss function with **SGD**\n",
    "- **visualize** the final learned weights\n"
   ]
  },
  {
   "cell_type": "code",
   "execution_count": 1,
   "metadata": {
    "collapsed": false
   },
   "outputs": [],
   "source": [
    "import random\n",
    "import numpy as np\n",
    "from cs231n.data_utils import load_CIFAR10\n",
    "import matplotlib.pyplot as plt\n",
    "\n",
    "from __future__ import print_function\n",
    "\n",
    "%matplotlib inline\n",
    "plt.rcParams['figure.figsize'] = (10.0, 8.0) # set default size of plots\n",
    "plt.rcParams['image.interpolation'] = 'nearest'\n",
    "plt.rcParams['image.cmap'] = 'gray'\n",
    "\n",
    "# for auto-reloading extenrnal modules\n",
    "# see http://stackoverflow.com/questions/1907993/autoreload-of-modules-in-ipython\n",
    "%load_ext autoreload\n",
    "%autoreload 2"
   ]
  },
  {
   "cell_type": "code",
   "execution_count": 2,
   "metadata": {
    "collapsed": false
   },
   "outputs": [
    {
     "name": "stdout",
     "output_type": "stream",
     "text": [
      "Train data shape:  (49000, 3073)\n",
      "Train labels shape:  (49000,)\n",
      "Validation data shape:  (1000, 3073)\n",
      "Validation labels shape:  (1000,)\n",
      "Test data shape:  (1000, 3073)\n",
      "Test labels shape:  (1000,)\n",
      "dev data shape:  (500, 3073)\n",
      "dev labels shape:  (500,)\n"
     ]
    }
   ],
   "source": [
    "def get_CIFAR10_data(num_training=49000, num_validation=1000, num_test=1000, num_dev=500):\n",
    "    \"\"\"\n",
    "    Load the CIFAR-10 dataset from disk and perform preprocessing to prepare\n",
    "    it for the linear classifier. These are the same steps as we used for the\n",
    "    SVM, but condensed to a single function.  \n",
    "    \"\"\"\n",
    "    # Load the raw CIFAR-10 data\n",
    "    cifar10_dir = 'cs231n/datasets/cifar-10-batches-py'\n",
    "    X_train, y_train, X_test, y_test = load_CIFAR10(cifar10_dir)\n",
    "    \n",
    "    # subsample the data\n",
    "    mask = list(range(num_training, num_training + num_validation))\n",
    "    X_val = X_train[mask]\n",
    "    y_val = y_train[mask]\n",
    "    mask = list(range(num_training))\n",
    "    X_train = X_train[mask]\n",
    "    y_train = y_train[mask]\n",
    "    mask = list(range(num_test))\n",
    "    X_test = X_test[mask]\n",
    "    y_test = y_test[mask]\n",
    "    mask = np.random.choice(num_training, num_dev, replace=False)\n",
    "    X_dev = X_train[mask]\n",
    "    y_dev = y_train[mask]\n",
    "    \n",
    "    # Preprocessing: reshape the image data into rows\n",
    "    X_train = np.reshape(X_train, (X_train.shape[0], -1))\n",
    "    X_val = np.reshape(X_val, (X_val.shape[0], -1))\n",
    "    X_test = np.reshape(X_test, (X_test.shape[0], -1))\n",
    "    X_dev = np.reshape(X_dev, (X_dev.shape[0], -1))\n",
    "    \n",
    "    # Normalize the data: subtract the mean image\n",
    "    mean_image = np.mean(X_train, axis = 0)\n",
    "    X_train -= mean_image\n",
    "    X_val -= mean_image\n",
    "    X_test -= mean_image\n",
    "    X_dev -= mean_image\n",
    "    \n",
    "    # add bias dimension and transform into columns\n",
    "    X_train = np.hstack([X_train, np.ones((X_train.shape[0], 1))])\n",
    "    X_val = np.hstack([X_val, np.ones((X_val.shape[0], 1))])\n",
    "    X_test = np.hstack([X_test, np.ones((X_test.shape[0], 1))])\n",
    "    X_dev = np.hstack([X_dev, np.ones((X_dev.shape[0], 1))])\n",
    "    \n",
    "    return X_train, y_train, X_val, y_val, X_test, y_test, X_dev, y_dev\n",
    "\n",
    "\n",
    "# Invoke the above function to get our data.\n",
    "X_train, y_train, X_val, y_val, X_test, y_test, X_dev, y_dev = get_CIFAR10_data()\n",
    "print('Train data shape: ', X_train.shape)\n",
    "print('Train labels shape: ', y_train.shape)\n",
    "print('Validation data shape: ', X_val.shape)\n",
    "print('Validation labels shape: ', y_val.shape)\n",
    "print('Test data shape: ', X_test.shape)\n",
    "print('Test labels shape: ', y_test.shape)\n",
    "print('dev data shape: ', X_dev.shape)\n",
    "print('dev labels shape: ', y_dev.shape)"
   ]
  },
  {
   "cell_type": "markdown",
   "metadata": {},
   "source": [
    "## Softmax Classifier\n",
    "\n",
    "Your code for this section will all be written inside **cs231n/classifiers/softmax.py**. \n"
   ]
  },
  {
   "cell_type": "code",
   "execution_count": 13,
   "metadata": {
    "collapsed": false,
    "scrolled": true
   },
   "outputs": [
    {
     "name": "stdout",
     "output_type": "stream",
     "text": [
      "loss: 2.370652\n",
      "sanity check: 2.302585\n"
     ]
    }
   ],
   "source": [
    "# First implement the naive softmax loss function with nested loops.\n",
    "# Open the file cs231n/classifiers/softmax.py and implement the\n",
    "# softmax_loss_naive function.\n",
    "\n",
    "from cs231n.classifiers.softmax import softmax_loss_naive\n",
    "import time\n",
    "\n",
    "# Generate a random softmax weight matrix and use it to compute the loss.\n",
    "W = np.random.randn(3073, 10) * 0.0001\n",
    "loss, grad = softmax_loss_naive(W, X_dev, y_dev, 0.0)\n",
    "\n",
    "# As a rough sanity check, our loss should be something close to -log(0.1).\n",
    "print('loss: %f' % loss)\n",
    "print('sanity check: %f' % (-np.log(0.1)))"
   ]
  },
  {
   "cell_type": "markdown",
   "metadata": {},
   "source": [
    "## Inline Question 1:\n",
    "Why do we expect our loss to be close to -log(0.1)? Explain briefly.**\n",
    "\n",
    "**Your answer:** *Fill this in*\n"
   ]
  },
  {
   "cell_type": "code",
   "execution_count": 14,
   "metadata": {
    "collapsed": false
   },
   "outputs": [
    {
     "name": "stdout",
     "output_type": "stream",
     "text": [
      "numerical: -2.907142 analytic: -2.907142, relative error: 1.264338e-08\n",
      "numerical: 2.661597 analytic: 2.661596, relative error: 2.287373e-08\n",
      "numerical: -0.924695 analytic: -0.924696, relative error: 4.062586e-08\n",
      "numerical: 2.042778 analytic: 2.042777, relative error: 1.876028e-08\n",
      "numerical: -0.071967 analytic: -0.071967, relative error: 4.162237e-07\n",
      "numerical: -1.369270 analytic: -1.369270, relative error: 6.683351e-09\n",
      "numerical: -1.261222 analytic: -1.261222, relative error: 3.332005e-08\n",
      "numerical: -6.172817 analytic: -6.172817, relative error: 6.400237e-09\n",
      "numerical: -2.432344 analytic: -2.432344, relative error: 1.860994e-08\n",
      "numerical: 0.933367 analytic: 0.933367, relative error: 2.834648e-08\n",
      "numerical: 2.826991 analytic: 2.826991, relative error: 1.535778e-08\n",
      "numerical: 2.527885 analytic: 2.527885, relative error: 1.574837e-08\n",
      "numerical: 2.355149 analytic: 2.355149, relative error: 1.749899e-08\n",
      "numerical: 1.871368 analytic: 1.871368, relative error: 3.069571e-08\n",
      "numerical: -1.801248 analytic: -1.801248, relative error: 3.488693e-08\n",
      "numerical: 1.429169 analytic: 1.429170, relative error: 1.035989e-08\n",
      "numerical: -0.210763 analytic: -0.210763, relative error: 1.150469e-07\n",
      "numerical: -0.589143 analytic: -0.589143, relative error: 5.210852e-08\n",
      "numerical: -3.449065 analytic: -3.449065, relative error: 4.960272e-09\n",
      "numerical: 0.548983 analytic: 0.548983, relative error: 4.321155e-08\n"
     ]
    }
   ],
   "source": [
    "# Complete the implementation of softmax_loss_naive and implement a (naive)\n",
    "# version of the gradient that uses nested loops.\n",
    "loss, grad = softmax_loss_naive(W, X_dev, y_dev, 0.0)\n",
    "\n",
    "# As we did for the SVM, use numeric gradient checking as a debugging tool.\n",
    "# The numeric gradient should be close to the analytic gradient.\n",
    "from cs231n.gradient_check import grad_check_sparse\n",
    "f = lambda w: softmax_loss_naive(w, X_dev, y_dev, 0.0)[0]\n",
    "grad_numerical = grad_check_sparse(f, W, grad, 10)\n",
    "\n",
    "# similar to SVM case, do another gradient check with regularization\n",
    "loss, grad = softmax_loss_naive(W, X_dev, y_dev, 5e1)\n",
    "f = lambda w: softmax_loss_naive(w, X_dev, y_dev, 5e1)[0]\n",
    "grad_numerical = grad_check_sparse(f, W, grad, 10)"
   ]
  },
  {
   "cell_type": "code",
   "execution_count": 24,
   "metadata": {
    "collapsed": false,
    "scrolled": false
   },
   "outputs": [
    {
     "name": "stdout",
     "output_type": "stream",
     "text": [
      "naive loss: 2.370652e+00 computed in 0.067957s\n",
      "(3073, 10) (3073, 10)\n",
      "vectorized loss: 2.370652e+00 computed in 0.010541s\n",
      "Loss difference: 0.000000\n",
      "Gradient difference: 0.000000\n"
     ]
    }
   ],
   "source": [
    "# Now that we have a naive implementation of the softmax loss function and its gradient,\n",
    "# implement a vectorized version in softmax_loss_vectorized.\n",
    "# The two versions should compute the same results, but the vectorized version should be\n",
    "# much faster.\n",
    "tic = time.time()\n",
    "loss_naive, grad_naive = softmax_loss_naive(W, X_dev, y_dev, 0.000005)\n",
    "toc = time.time()\n",
    "print('naive loss: %e computed in %fs' % (loss_naive, toc - tic))\n",
    "\n",
    "from cs231n.classifiers.softmax import softmax_loss_vectorized\n",
    "tic = time.time()\n",
    "loss_vectorized, grad_vectorized = softmax_loss_vectorized(W, X_dev, y_dev, 0.000005)\n",
    "toc = time.time()\n",
    "print('vectorized loss: %e computed in %fs' % (loss_vectorized, toc - tic))\n",
    "\n",
    "# As we did for the SVM, we use the Frobenius norm to compare the two versions\n",
    "# of the gradient.\n",
    "grad_difference = np.linalg.norm(grad_naive - grad_vectorized, ord='fro')\n",
    "print('Loss difference: %f' % np.abs(loss_naive - loss_vectorized))\n",
    "print('Gradient difference: %f' % grad_difference)"
   ]
  },
  {
   "cell_type": "code",
   "execution_count": 35,
   "metadata": {
    "collapsed": false
   },
   "outputs": [
    {
     "name": "stdout",
     "output_type": "stream",
     "text": [
      "iter_num:  0 loss:  770.179775786\n",
      "iter_num:  10 loss:  696.471020748\n",
      "iter_num:  20 loss:  629.868371855\n",
      "iter_num:  30 loss:  569.684106535\n",
      "iter_num:  40 loss:  515.293998316\n",
      "iter_num:  50 loss:  466.133676646\n",
      "iter_num:  60 loss:  421.6947389\n",
      "iter_num:  70 loss:  381.51988138\n",
      "iter_num:  80 loss:  345.197440816\n",
      "iter_num:  90 loss:  312.356365414\n",
      "iter_num:  0 loss:  1524.42414835\n",
      "iter_num:  10 loss:  1246.86072424\n",
      "iter_num:  20 loss:  1019.89247921\n",
      "iter_num:  30 loss:  834.301938995\n",
      "iter_num:  40 loss:  682.548786486\n",
      "iter_num:  50 loss:  558.465560225\n",
      "iter_num:  60 loss:  457.008412297\n",
      "iter_num:  70 loss:  374.052680923\n",
      "iter_num:  80 loss:  306.225401937\n",
      "iter_num:  90 loss:  250.768286664\n",
      "iter_num:  0 loss:  780.905793158\n",
      "iter_num:  10 loss:  470.230334486\n",
      "iter_num:  20 loss:  283.662830359\n",
      "iter_num:  30 loss:  171.490070896\n",
      "iter_num:  40 loss:  104.018889069\n",
      "iter_num:  50 loss:  63.4275554311\n",
      "iter_num:  60 loss:  39.0041598906\n",
      "iter_num:  70 loss:  24.307121659\n",
      "iter_num:  80 loss:  15.4620397355\n",
      "iter_num:  90 loss:  10.1382893279\n",
      "iter_num:  0 loss:  1524.58494226\n",
      "iter_num:  10 loss:  546.961423796\n",
      "iter_num:  20 loss:  197.118139448\n",
      "iter_num:  30 loss:  71.9285313564\n",
      "iter_num:  40 loss:  27.1249971353\n",
      "iter_num:  50 loss:  11.0882430375\n",
      "iter_num:  60 loss:  5.34732661686\n",
      "iter_num:  70 loss:  3.29192629798\n",
      "iter_num:  80 loss:  2.55596989136\n",
      "iter_num:  90 loss:  2.29243357787\n",
      "lr 1.000000e-07 reg 2.500000e+04 train accuracy: 0.000000 val accuracy: 0.000000\n",
      "lr 1.000000e-07 reg 5.000000e+04 train accuracy: 0.000000 val accuracy: 0.000000\n",
      "lr 5.000000e-07 reg 2.500000e+04 train accuracy: 0.000000 val accuracy: 0.000000\n",
      "lr 5.000000e-07 reg 5.000000e+04 train accuracy: 0.000000 val accuracy: 0.000000\n",
      "best validation accuracy achieved during cross-validation: 0.000000\n"
     ]
    }
   ],
   "source": [
    "# Use the validation set to tune hyperparameters (regularization strength and\n",
    "# learning rate). You should experiment with different ranges for the learning\n",
    "# rates and regularization strengths; if you are careful you should be able to\n",
    "# get a classification accuracy of over 0.35 on the validation set.\n",
    "from cs231n.classifiers import Softmax\n",
    "results = {}\n",
    "best_val = -1\n",
    "best_softmax = None\n",
    "learning_rates = [1e-7, 5e-7]\n",
    "regularization_strengths = [2.5e4, 5e4]\n",
    "\n",
    "################################################################################\n",
    "# TODO:                                                                        #\n",
    "# Use the validation set to set the learning rate and regularization strength. #\n",
    "# This should be identical to the validation that you did for the SVM; save    #\n",
    "# the best trained softmax classifer in best_softmax.                          #\n",
    "################################################################################\n",
    "# idx_train = np.random.choice(X_train.shape[0], 5000)\n",
    "# X_train1 = X_train[idx_train]\n",
    "# y_train1 = y_train[idx_train]\n",
    "# idx_val = np.random.choice(X_val.shape[0], 1000)\n",
    "# X_val1 = X_val[idx_val]\n",
    "# y_val1 = y_val[idx_val]\n",
    "\n",
    "num_train = X_train.shape[0]\n",
    "num_val = X_val.shape[0]\n",
    "num_features = X_train.shape[1]\n",
    "num_class = 10\n",
    "\n",
    "for lr in learning_rates:\n",
    "    for reg in regularization_strengths:\n",
    "        W = np.random.randn(num_features, num_class)*0.001\n",
    "        loss = 0.0\n",
    "        grad = 0.0\n",
    "#         for iter_num in range(100):\n",
    "#             loss, grad = softmax_loss_vectorized(W, X_train1, y_train1, reg)\n",
    "#             W -= lr*grad\n",
    "#             if iter_num%10 == 0:\n",
    "#                 print('iter_num: ', iter_num, 'loss: ', loss) \n",
    "        \n",
    "#         train_accuracies = np.sum(np.argmax(X_train1.dot(W), axis = 1) == y_train1) / num_train\n",
    "#         val_accuracies = np.sum(np.argmax(X_val1.dot(W), axis = 1) == y_val1) / num_val\n",
    "#         results[(lr, reg)] = [train_accuracies, val_accuracies]\n",
    "        \n",
    "        sf = Softmax()\n",
    "        softmax.train(X = X_train, y = y_train, learning_rate = lr, reg = reg, num_iter = 500)\n",
    "        train_accuracies = sum(sf.predict(X_train) == y_train) / num_train\n",
    "        val_accuracies = sum(sf.predict(X_val) == y_val) / num_val\n",
    "        if val_accuracies > best_val:\n",
    "            best_val = val_accuracies\n",
    "            best_softmax = sf\n",
    "            \n",
    "################################################################################\n",
    "#                              END OF YOUR CODE                                #\n",
    "################################################################################\n",
    "    \n",
    "# Print out results.\n",
    "for lr, reg in sorted(results):\n",
    "    train_accuracy, val_accuracy = results[(lr, reg)]\n",
    "    print('lr %e reg %e train accuracy: %f val accuracy: %f' % (\n",
    "                lr, reg, train_accuracy, val_accuracy))\n",
    "    \n",
    "print('best validation accuracy achieved during cross-validation: %f' % best_val)"
   ]
  },
  {
   "cell_type": "code",
   "execution_count": null,
   "metadata": {
    "collapsed": false
   },
   "outputs": [],
   "source": [
    "# evaluate on test set\n",
    "# Evaluate the best softmax on test set\n",
    "y_test_pred = best_softmax.predict(X_test)\n",
    "test_accuracy = np.mean(y_test == y_test_pred)\n",
    "print('softmax on raw pixels final test set accuracy: %f' % (test_accuracy, ))"
   ]
  },
  {
   "cell_type": "code",
   "execution_count": null,
   "metadata": {
    "collapsed": false
   },
   "outputs": [],
   "source": [
    "# Visualize the learned weights for each class\n",
    "w = best_softmax.W[:-1,:] # strip out the bias\n",
    "w = w.reshape(32, 32, 3, 10)\n",
    "\n",
    "w_min, w_max = np.min(w), np.max(w)\n",
    "\n",
    "classes = ['plane', 'car', 'bird', 'cat', 'deer', 'dog', 'frog', 'horse', 'ship', 'truck']\n",
    "for i in range(10):\n",
    "    plt.subplot(2, 5, i + 1)\n",
    "    \n",
    "    # Rescale the weights to be between 0 and 255\n",
    "    wimg = 255.0 * (w[:, :, :, i].squeeze() - w_min) / (w_max - w_min)\n",
    "    plt.imshow(wimg.astype('uint8'))\n",
    "    plt.axis('off')\n",
    "    plt.title(classes[i])"
   ]
  }
 ],
 "metadata": {
  "kernelspec": {
   "display_name": "Python 2",
   "language": "python",
   "name": "python2"
  },
  "language_info": {
   "codemirror_mode": {
    "name": "ipython",
    "version": 2
   },
   "file_extension": ".py",
   "mimetype": "text/x-python",
   "name": "python",
   "nbconvert_exporter": "python",
   "pygments_lexer": "ipython2",
   "version": "2.7.6"
  }
 },
 "nbformat": 4,
 "nbformat_minor": 0
}
